{
 "cells": [
  {
   "cell_type": "code",
   "execution_count": 7,
   "metadata": {},
   "outputs": [
    {
     "name": "stdout",
     "output_type": "stream",
     "text": [
      "Saved ./output/page_1.jpg\n",
      "Saved ./output/page_2.jpg\n",
      "Saved ./output/page_3.jpg\n",
      "Saved ./output/page_4.jpg\n",
      "Saved ./output/page_5.jpg\n",
      "Saved ./output/page_6.jpg\n",
      "Saved ./output/page_7.jpg\n",
      "Saved ./output/page_8.jpg\n",
      "Saved ./output/page_9.jpg\n",
      "Saved ./output/page_10.jpg\n",
      "Saved ./output/page_11.jpg\n",
      "Saved ./output/page_12.jpg\n",
      "Saved ./output/page_13.jpg\n",
      "Saved ./output/page_14.jpg\n",
      "Saved ./output/page_15.jpg\n",
      "Saved ./output/page_16.jpg\n",
      "Saved ./output/page_17.jpg\n",
      "Saved ./output/page_18.jpg\n",
      "Saved ./output/page_19.jpg\n",
      "Saved ./output/page_20.jpg\n",
      "Saved ./output/page_21.jpg\n",
      "Saved ./output/page_22.jpg\n",
      "Saved ./output/page_23.jpg\n",
      "Saved ./output/page_24.jpg\n",
      "Saved ./output/page_25.jpg\n",
      "Saved ./output/page_26.jpg\n",
      "Saved ./output/page_27.jpg\n",
      "Saved ./output/page_28.jpg\n",
      "Saved ./output/page_29.jpg\n",
      "Saved ./output/page_30.jpg\n",
      "Saved ./output/page_31.jpg\n",
      "Saved ./output/page_32.jpg\n",
      "Saved ./output/page_33.jpg\n"
     ]
    }
   ],
   "source": [
    "from pdf2image import convert_from_path\n",
    "\n",
    "# PDF 파일 경로\n",
    "pdf_path = 'Transformer.pdf'\n",
    "\n",
    "# 결과 이미지를 저장할 폴더\n",
    "output_folder = './output'\n",
    "\n",
    "# PDF의 모든 페이지를 이미지 리스트로 변환\n",
    "images = convert_from_path('Transformer.pdf', poppler_path=r'C:\\poppler-24.08.0\\Library\\bin')\n",
    "\n",
    "# 각 페이지를 JPG로 저장\n",
    "for i, image in enumerate(images):\n",
    "    image_path = f'{output_folder}/page_{i+1}.jpg'\n",
    "    image.save(image_path, 'JPEG')\n",
    "    print(f'Saved {image_path}')\n"
   ]
  },
  {
   "cell_type": "code",
   "execution_count": null,
   "metadata": {},
   "outputs": [],
   "source": []
  }
 ],
 "metadata": {
  "kernelspec": {
   "display_name": "Python 3",
   "language": "python",
   "name": "python3"
  },
  "language_info": {
   "codemirror_mode": {
    "name": "ipython",
    "version": 3
   },
   "file_extension": ".py",
   "mimetype": "text/x-python",
   "name": "python",
   "nbconvert_exporter": "python",
   "pygments_lexer": "ipython3",
   "version": "3.12.10"
  },
  "orig_nbformat": 4
 },
 "nbformat": 4,
 "nbformat_minor": 2
}
