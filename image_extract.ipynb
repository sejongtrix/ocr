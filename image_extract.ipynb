{
 "cells": [
  {
   "cell_type": "code",
   "execution_count": 10,
   "metadata": {},
   "outputs": [
    {
     "name": "stdout",
     "output_type": "stream",
     "text": [
      "결과 이미지가 page_3_bbox1.jpg에 저장되었습니다.\n"
     ]
    }
   ],
   "source": [
    "import cv2\n",
    "import numpy as np\n",
    "\n",
    "def extract_and_draw_bboxes(image_path, output_path):\n",
    "    # 이미지 읽기\n",
    "    img = cv2.imread(image_path)\n",
    "    if img is None:\n",
    "        print('이미지를 불러올 수 없습니다.')\n",
    "        return\n",
    "\n",
    "    # 그레이스케일 변환\n",
    "    gray = cv2.cvtColor(img, cv2.COLOR_BGR2GRAY)\n",
    "\n",
    "    # 임계값 처리(이진화) - 배경과 그림 분리\n",
    "    _, thresh = cv2.threshold(gray, 240, 255, cv2.THRESH_BINARY_INV)\n",
    "\n",
    "    # 윤곽선 검출\n",
    "    contours, _ = cv2.findContours(thresh, cv2.RETR_EXTERNAL, cv2.CHAIN_APPROX_SIMPLE)\n",
    "\n",
    "    # 각 윤곽선에 대해 바운딩 박스 계산 및 그리기\n",
    "    for cnt in contours:\n",
    "        x, y, w, h = cv2.boundingRect(cnt)\n",
    "        # 너무 작은 노이즈는 무시\n",
    "        if w > 10 and h > 10:\n",
    "            cv2.rectangle(img, (x, y), (x + w, y + h), (0, 255, 0), 2)  # 초록색 사각형\n",
    "\n",
    "    # 결과 이미지 저장\n",
    "    cv2.imwrite(output_path, img)\n",
    "    print(f'결과 이미지가 {output_path}에 저장되었습니다.')\n",
    "\n",
    "# 예시 사용법\n",
    "extract_and_draw_bboxes('output/page_3.jpg', 'page_3_bbox1.jpg')\n"
   ]
  },
  {
   "cell_type": "code",
   "execution_count": 8,
   "metadata": {},
   "outputs": [],
   "source": [
    "import cv2\n",
    "import numpy as np\n",
    "\n",
    "def extract_and_draw_bboxes(image_path, output_path):\n",
    "    img = cv2.imread(image_path)\n",
    "    gray = cv2.cvtColor(img, cv2.COLOR_BGR2GRAY)\n",
    "    _, thresh = cv2.threshold(gray, 240, 255, cv2.THRESH_BINARY_INV)\n",
    "    # 팽창 연산으로 인접 글자 병합\n",
    "    kernel = cv2.getStructuringElement(cv2.MORPH_RECT, (15, 5))\n",
    "    dilated = cv2.dilate(thresh, kernel, iterations=1)\n",
    "    contours, _ = cv2.findContours(dilated, cv2.RETR_EXTERNAL, cv2.CHAIN_APPROX_SIMPLE)\n",
    "    for cnt in contours:\n",
    "        x, y, w, h = cv2.boundingRect(cnt)\n",
    "        area = w * h\n",
    "        aspect_ratio = w / h\n",
    "        # 넓이와 비율 조건으로 노이즈 및 글자 제외\n",
    "        if area > 1000 and 0.3 < aspect_ratio < 3.0:\n",
    "            cv2.rectangle(img, (x, y), (x + w, y + h), (0, 255, 0), 2)\n",
    "    cv2.imwrite(output_path, img)\n",
    "extract_and_draw_bboxes('output/page_3.jpg', 'page_3_bbox.jpg')\n"
   ]
  },
  {
   "cell_type": "code",
   "execution_count": null,
   "metadata": {},
   "outputs": [],
   "source": []
  }
 ],
 "metadata": {
  "kernelspec": {
   "display_name": "Python 3",
   "language": "python",
   "name": "python3"
  },
  "language_info": {
   "codemirror_mode": {
    "name": "ipython",
    "version": 3
   },
   "file_extension": ".py",
   "mimetype": "text/x-python",
   "name": "python",
   "nbconvert_exporter": "python",
   "pygments_lexer": "ipython3",
   "version": "3.12.10"
  },
  "orig_nbformat": 4
 },
 "nbformat": 4,
 "nbformat_minor": 2
}
